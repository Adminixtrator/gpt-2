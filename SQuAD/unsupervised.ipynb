{
 "cells": [
  {
   "cell_type": "code",
   "execution_count": 4,
   "metadata": {
    "collapsed": true
   },
   "outputs": [],
   "source": [
    "import numpy as np, pandas as pd\n",
    "import json\n",
    "import ast \n",
    "from textblob import TextBlob\n",
    "import nltk\n",
    "import torch\n",
    "import pickle\n",
    "from scipy import spatial\n",
    "import warnings\n",
    "warnings.filterwarnings('ignore')\n",
    "import spacy\n",
    "from nltk import Tree\n",
    "en_nlp = spacy.load('en')\n",
    "from nltk.stem.lancaster import LancasterStemmer\n",
    "st = LancasterStemmer()\n",
    "from sklearn.feature_extraction.text import TfidfVectorizer, TfidfTransformer"
   ]
  },
  {
   "cell_type": "code",
   "execution_count": 2,
   "metadata": {
    "collapsed": true
   },
   "outputs": [],
   "source": [
    "# !conda update pandas --y"
   ]
  },
  {
   "cell_type": "code",
   "execution_count": 3,
   "metadata": {
    "collapsed": true
   },
   "outputs": [],
   "source": [
    "train = pd.read_csv(\"data/train.csv\")"
   ]
  },
  {
   "cell_type": "code",
   "execution_count": 4,
   "metadata": {},
   "outputs": [
    {
     "data": {
      "text/plain": [
       "(87599, 4)"
      ]
     },
     "execution_count": 4,
     "metadata": {},
     "output_type": "execute_result"
    }
   ],
   "source": [
    "train.shape"
   ]
  },
  {
   "cell_type": "markdown",
   "metadata": {},
   "source": [
    "### Loading Embedding dictionary"
   ]
  },
  {
   "cell_type": "code",
   "execution_count": 5,
   "metadata": {
    "collapsed": true
   },
   "outputs": [],
   "source": [
    "with open(\"data/dict_embeddings1.pickle\", \"rb\") as f:\n",
    "    d1 = pickle.load(f)"
   ]
  },
  {
   "cell_type": "code",
   "execution_count": 6,
   "metadata": {
    "collapsed": true
   },
   "outputs": [],
   "source": [
    "with open(\"data/dict_embeddings2.pickle\", \"rb\") as f:\n",
    "    d2 = pickle.load(f)"
   ]
  },
  {
   "cell_type": "code",
   "execution_count": 7,
   "metadata": {
    "collapsed": true
   },
   "outputs": [],
   "source": [
    "dict_emb = dict(d1)\n",
    "dict_emb.update(d2)"
   ]
  },
  {
   "cell_type": "code",
   "execution_count": 8,
   "metadata": {},
   "outputs": [
    {
     "data": {
      "text/plain": [
       "179862"
      ]
     },
     "execution_count": 8,
     "metadata": {},
     "output_type": "execute_result"
    }
   ],
   "source": [
    "len(dict_emb)"
   ]
  },
  {
   "cell_type": "code",
   "execution_count": 9,
   "metadata": {
    "collapsed": true
   },
   "outputs": [],
   "source": [
    "del d1, d2"
   ]
  },
  {
   "cell_type": "markdown",
   "metadata": {},
   "source": [
    "## Data Processing"
   ]
  },
  {
   "cell_type": "code",
   "execution_count": 10,
   "metadata": {
    "collapsed": true
   },
   "outputs": [],
   "source": [
    "def get_target(x):\n",
    "    idx = -1\n",
    "    for i in range(len(x[\"sentences\"])):\n",
    "        if x[\"text\"] in x[\"sentences\"][i]: idx = i\n",
    "    return idx"
   ]
  },
  {
   "cell_type": "code",
   "execution_count": 11,
   "metadata": {},
   "outputs": [
    {
     "data": {
      "text/html": [
       "<div>\n",
       "<style scoped>\n",
       "    .dataframe tbody tr th:only-of-type {\n",
       "        vertical-align: middle;\n",
       "    }\n",
       "\n",
       "    .dataframe tbody tr th {\n",
       "        vertical-align: top;\n",
       "    }\n",
       "\n",
       "    .dataframe thead th {\n",
       "        text-align: right;\n",
       "    }\n",
       "</style>\n",
       "<table border=\"1\" class=\"dataframe\">\n",
       "  <thead>\n",
       "    <tr style=\"text-align: right;\">\n",
       "      <th></th>\n",
       "      <th>answer_start</th>\n",
       "      <th>context</th>\n",
       "      <th>question</th>\n",
       "      <th>text</th>\n",
       "    </tr>\n",
       "  </thead>\n",
       "  <tbody>\n",
       "    <tr>\n",
       "      <th>0</th>\n",
       "      <td>515</td>\n",
       "      <td>Architecturally, the school has a Catholic cha...</td>\n",
       "      <td>To whom did the Virgin Mary allegedly appear i...</td>\n",
       "      <td>Saint Bernadette Soubirous</td>\n",
       "    </tr>\n",
       "    <tr>\n",
       "      <th>1</th>\n",
       "      <td>188</td>\n",
       "      <td>Architecturally, the school has a Catholic cha...</td>\n",
       "      <td>What is in front of the Notre Dame Main Building?</td>\n",
       "      <td>a copper statue of Christ</td>\n",
       "    </tr>\n",
       "    <tr>\n",
       "      <th>2</th>\n",
       "      <td>279</td>\n",
       "      <td>Architecturally, the school has a Catholic cha...</td>\n",
       "      <td>The Basilica of the Sacred heart at Notre Dame...</td>\n",
       "      <td>the Main Building</td>\n",
       "    </tr>\n",
       "  </tbody>\n",
       "</table>\n",
       "</div>"
      ],
      "text/plain": [
       "   answer_start                                            context  \\\n",
       "0           515  Architecturally, the school has a Catholic cha...   \n",
       "1           188  Architecturally, the school has a Catholic cha...   \n",
       "2           279  Architecturally, the school has a Catholic cha...   \n",
       "\n",
       "                                            question  \\\n",
       "0  To whom did the Virgin Mary allegedly appear i...   \n",
       "1  What is in front of the Notre Dame Main Building?   \n",
       "2  The Basilica of the Sacred heart at Notre Dame...   \n",
       "\n",
       "                         text  \n",
       "0  Saint Bernadette Soubirous  \n",
       "1   a copper statue of Christ  \n",
       "2           the Main Building  "
      ]
     },
     "execution_count": 11,
     "metadata": {},
     "output_type": "execute_result"
    }
   ],
   "source": [
    "train.head(3)"
   ]
  },
  {
   "cell_type": "code",
   "execution_count": 12,
   "metadata": {},
   "outputs": [
    {
     "data": {
      "text/plain": [
       "(87599, 4)"
      ]
     },
     "execution_count": 12,
     "metadata": {},
     "output_type": "execute_result"
    }
   ],
   "source": [
    "train.shape"
   ]
  },
  {
   "cell_type": "code",
   "execution_count": 13,
   "metadata": {
    "collapsed": true
   },
   "outputs": [],
   "source": [
    "train.dropna(inplace=True)"
   ]
  },
  {
   "cell_type": "code",
   "execution_count": 14,
   "metadata": {},
   "outputs": [
    {
     "data": {
      "text/plain": [
       "(87598, 4)"
      ]
     },
     "execution_count": 14,
     "metadata": {},
     "output_type": "execute_result"
    }
   ],
   "source": [
    "train.shape"
   ]
  },
  {
   "cell_type": "code",
   "execution_count": 15,
   "metadata": {
    "collapsed": true
   },
   "outputs": [],
   "source": [
    "def process_data(train):\n",
    "    \n",
    "    print(\"step 1\")\n",
    "    train['sentences'] = train['context'].apply(lambda x: [item.raw for item in TextBlob(x).sentences])\n",
    "    \n",
    "    print(\"step 2\")\n",
    "    train[\"target\"] = train.apply(get_target, axis = 1)\n",
    "    \n",
    "    print(\"step 3\")\n",
    "    train['sent_emb'] = train['sentences'].apply(lambda x: [dict_emb[item][0] if item in\\\n",
    "                                                           dict_emb else np.zeros(4096) for item in x])\n",
    "    print(\"step 4\")\n",
    "    train['quest_emb'] = train['question'].apply(lambda x: dict_emb[x] if x in dict_emb else np.zeros(4096) )\n",
    "        \n",
    "    return train   "
   ]
  },
  {
   "cell_type": "code",
   "execution_count": 16,
   "metadata": {},
   "outputs": [
    {
     "name": "stdout",
     "output_type": "stream",
     "text": [
      "step 1\n",
      "step 2\n",
      "step 3\n",
      "step 4\n"
     ]
    }
   ],
   "source": [
    "train = process_data(train)"
   ]
  },
  {
   "cell_type": "code",
   "execution_count": 17,
   "metadata": {},
   "outputs": [
    {
     "data": {
      "text/html": [
       "<div>\n",
       "<style scoped>\n",
       "    .dataframe tbody tr th:only-of-type {\n",
       "        vertical-align: middle;\n",
       "    }\n",
       "\n",
       "    .dataframe tbody tr th {\n",
       "        vertical-align: top;\n",
       "    }\n",
       "\n",
       "    .dataframe thead th {\n",
       "        text-align: right;\n",
       "    }\n",
       "</style>\n",
       "<table border=\"1\" class=\"dataframe\">\n",
       "  <thead>\n",
       "    <tr style=\"text-align: right;\">\n",
       "      <th></th>\n",
       "      <th>answer_start</th>\n",
       "      <th>context</th>\n",
       "      <th>question</th>\n",
       "      <th>text</th>\n",
       "      <th>sentences</th>\n",
       "      <th>target</th>\n",
       "      <th>sent_emb</th>\n",
       "      <th>quest_emb</th>\n",
       "    </tr>\n",
       "  </thead>\n",
       "  <tbody>\n",
       "    <tr>\n",
       "      <th>0</th>\n",
       "      <td>515</td>\n",
       "      <td>Architecturally, the school has a Catholic cha...</td>\n",
       "      <td>To whom did the Virgin Mary allegedly appear i...</td>\n",
       "      <td>Saint Bernadette Soubirous</td>\n",
       "      <td>[Architecturally, the school has a Catholic ch...</td>\n",
       "      <td>5</td>\n",
       "      <td>[[0.055199966, 0.05013141, 0.047870383, 0.0162...</td>\n",
       "      <td>[[0.11010079, 0.11422941, 0.11560896, 0.054894...</td>\n",
       "    </tr>\n",
       "    <tr>\n",
       "      <th>1</th>\n",
       "      <td>188</td>\n",
       "      <td>Architecturally, the school has a Catholic cha...</td>\n",
       "      <td>What is in front of the Notre Dame Main Building?</td>\n",
       "      <td>a copper statue of Christ</td>\n",
       "      <td>[Architecturally, the school has a Catholic ch...</td>\n",
       "      <td>2</td>\n",
       "      <td>[[0.055199966, 0.05013141, 0.047870383, 0.0162...</td>\n",
       "      <td>[[0.10951651, 0.110306226, 0.052100066, 0.0305...</td>\n",
       "    </tr>\n",
       "    <tr>\n",
       "      <th>2</th>\n",
       "      <td>279</td>\n",
       "      <td>Architecturally, the school has a Catholic cha...</td>\n",
       "      <td>The Basilica of the Sacred heart at Notre Dame...</td>\n",
       "      <td>the Main Building</td>\n",
       "      <td>[Architecturally, the school has a Catholic ch...</td>\n",
       "      <td>3</td>\n",
       "      <td>[[0.055199966, 0.05013141, 0.047870383, 0.0162...</td>\n",
       "      <td>[[0.011956469, 0.14930707, 0.026600493, 0.0527...</td>\n",
       "    </tr>\n",
       "  </tbody>\n",
       "</table>\n",
       "</div>"
      ],
      "text/plain": [
       "   answer_start                                            context  \\\n",
       "0           515  Architecturally, the school has a Catholic cha...   \n",
       "1           188  Architecturally, the school has a Catholic cha...   \n",
       "2           279  Architecturally, the school has a Catholic cha...   \n",
       "\n",
       "                                            question  \\\n",
       "0  To whom did the Virgin Mary allegedly appear i...   \n",
       "1  What is in front of the Notre Dame Main Building?   \n",
       "2  The Basilica of the Sacred heart at Notre Dame...   \n",
       "\n",
       "                         text  \\\n",
       "0  Saint Bernadette Soubirous   \n",
       "1   a copper statue of Christ   \n",
       "2           the Main Building   \n",
       "\n",
       "                                           sentences  target  \\\n",
       "0  [Architecturally, the school has a Catholic ch...       5   \n",
       "1  [Architecturally, the school has a Catholic ch...       2   \n",
       "2  [Architecturally, the school has a Catholic ch...       3   \n",
       "\n",
       "                                            sent_emb  \\\n",
       "0  [[0.055199966, 0.05013141, 0.047870383, 0.0162...   \n",
       "1  [[0.055199966, 0.05013141, 0.047870383, 0.0162...   \n",
       "2  [[0.055199966, 0.05013141, 0.047870383, 0.0162...   \n",
       "\n",
       "                                           quest_emb  \n",
       "0  [[0.11010079, 0.11422941, 0.11560896, 0.054894...  \n",
       "1  [[0.10951651, 0.110306226, 0.052100066, 0.0305...  \n",
       "2  [[0.011956469, 0.14930707, 0.026600493, 0.0527...  "
      ]
     },
     "execution_count": 17,
     "metadata": {},
     "output_type": "execute_result"
    }
   ],
   "source": [
    "train.head(3)"
   ]
  },
  {
   "cell_type": "code",
   "execution_count": null,
   "metadata": {
    "collapsed": true
   },
   "outputs": [],
   "source": []
  },
  {
   "cell_type": "markdown",
   "metadata": {},
   "source": [
    "## Predicted Cosine & Euclidean Index"
   ]
  },
  {
   "cell_type": "code",
   "execution_count": 18,
   "metadata": {
    "collapsed": true
   },
   "outputs": [],
   "source": [
    "def cosine_sim(x):\n",
    "    li = []\n",
    "    for item in x[\"sent_emb\"]:\n",
    "        li.append(spatial.distance.cosine(item,x[\"quest_emb\"][0]))\n",
    "    return li   "
   ]
  },
  {
   "cell_type": "code",
   "execution_count": 19,
   "metadata": {
    "collapsed": true
   },
   "outputs": [],
   "source": [
    "def pred_idx(distances):\n",
    "    return np.argmin(distances)   "
   ]
  },
  {
   "cell_type": "code",
   "execution_count": 20,
   "metadata": {
    "collapsed": true
   },
   "outputs": [],
   "source": [
    "def predictions(train):\n",
    "    \n",
    "    train[\"cosine_sim\"] = train.apply(cosine_sim, axis = 1)\n",
    "    train[\"diff\"] = (train[\"quest_emb\"] - train[\"sent_emb\"])**2\n",
    "    train[\"euclidean_dis\"] = train[\"diff\"].apply(lambda x: list(np.sum(x, axis = 1)))\n",
    "    del train[\"diff\"]\n",
    "    \n",
    "    print(\"cosine start\")\n",
    "    \n",
    "    train[\"pred_idx_cos\"] = train[\"cosine_sim\"].apply(lambda x: pred_idx(x))\n",
    "    train[\"pred_idx_euc\"] = train[\"euclidean_dis\"].apply(lambda x: pred_idx(x))\n",
    "    \n",
    "    return train\n",
    "    "
   ]
  },
  {
   "cell_type": "code",
   "execution_count": 21,
   "metadata": {
    "collapsed": true
   },
   "outputs": [],
   "source": [
    "predicted = predictions(train)"
   ]
  },
  {
   "cell_type": "code",
   "execution_count": 22,
   "metadata": {},
   "outputs": [
    {
     "data": {
      "text/html": [
       "<div>\n",
       "<style scoped>\n",
       "    .dataframe tbody tr th:only-of-type {\n",
       "        vertical-align: middle;\n",
       "    }\n",
       "\n",
       "    .dataframe tbody tr th {\n",
       "        vertical-align: top;\n",
       "    }\n",
       "\n",
       "    .dataframe thead th {\n",
       "        text-align: right;\n",
       "    }\n",
       "</style>\n",
       "<table border=\"1\" class=\"dataframe\">\n",
       "  <thead>\n",
       "    <tr style=\"text-align: right;\">\n",
       "      <th></th>\n",
       "      <th>answer_start</th>\n",
       "      <th>context</th>\n",
       "      <th>question</th>\n",
       "      <th>text</th>\n",
       "      <th>sentences</th>\n",
       "      <th>target</th>\n",
       "      <th>sent_emb</th>\n",
       "      <th>quest_emb</th>\n",
       "      <th>cosine_sim</th>\n",
       "      <th>euclidean_dis</th>\n",
       "      <th>pred_idx_cos</th>\n",
       "      <th>pred_idx_euc</th>\n",
       "    </tr>\n",
       "  </thead>\n",
       "  <tbody>\n",
       "    <tr>\n",
       "      <th>0</th>\n",
       "      <td>515</td>\n",
       "      <td>Architecturally, the school has a Catholic cha...</td>\n",
       "      <td>To whom did the Virgin Mary allegedly appear i...</td>\n",
       "      <td>Saint Bernadette Soubirous</td>\n",
       "      <td>[Architecturally, the school has a Catholic ch...</td>\n",
       "      <td>5</td>\n",
       "      <td>[[0.055199966, 0.05013141, 0.047870383, 0.0162...</td>\n",
       "      <td>[[0.11010079, 0.11422941, 0.11560896, 0.054894...</td>\n",
       "      <td>[0.424736299052452, 0.36405004106069117, 0.347...</td>\n",
       "      <td>[14.563858, 15.262212, 17.398178, 14.272491, 1...</td>\n",
       "      <td>5</td>\n",
       "      <td>5</td>\n",
       "    </tr>\n",
       "    <tr>\n",
       "      <th>1</th>\n",
       "      <td>188</td>\n",
       "      <td>Architecturally, the school has a Catholic cha...</td>\n",
       "      <td>What is in front of the Notre Dame Main Building?</td>\n",
       "      <td>a copper statue of Christ</td>\n",
       "      <td>[Architecturally, the school has a Catholic ch...</td>\n",
       "      <td>2</td>\n",
       "      <td>[[0.055199966, 0.05013141, 0.047870383, 0.0162...</td>\n",
       "      <td>[[0.10951651, 0.110306226, 0.052100066, 0.0305...</td>\n",
       "      <td>[0.45407456884452513, 0.32262004808444933, 0.3...</td>\n",
       "      <td>[12.889506, 12.285219, 16.843704, 8.361172, 11...</td>\n",
       "      <td>3</td>\n",
       "      <td>3</td>\n",
       "    </tr>\n",
       "    <tr>\n",
       "      <th>2</th>\n",
       "      <td>279</td>\n",
       "      <td>Architecturally, the school has a Catholic cha...</td>\n",
       "      <td>The Basilica of the Sacred heart at Notre Dame...</td>\n",
       "      <td>the Main Building</td>\n",
       "      <td>[Architecturally, the school has a Catholic ch...</td>\n",
       "      <td>3</td>\n",
       "      <td>[[0.055199966, 0.05013141, 0.047870383, 0.0162...</td>\n",
       "      <td>[[0.011956469, 0.14930707, 0.026600493, 0.0527...</td>\n",
       "      <td>[0.39585783692319865, 0.29170832145169434, 0.3...</td>\n",
       "      <td>[11.857297, 11.392319, 15.061656, 7.1847134, 8...</td>\n",
       "      <td>3</td>\n",
       "      <td>3</td>\n",
       "    </tr>\n",
       "  </tbody>\n",
       "</table>\n",
       "</div>"
      ],
      "text/plain": [
       "   answer_start                                            context  \\\n",
       "0           515  Architecturally, the school has a Catholic cha...   \n",
       "1           188  Architecturally, the school has a Catholic cha...   \n",
       "2           279  Architecturally, the school has a Catholic cha...   \n",
       "\n",
       "                                            question  \\\n",
       "0  To whom did the Virgin Mary allegedly appear i...   \n",
       "1  What is in front of the Notre Dame Main Building?   \n",
       "2  The Basilica of the Sacred heart at Notre Dame...   \n",
       "\n",
       "                         text  \\\n",
       "0  Saint Bernadette Soubirous   \n",
       "1   a copper statue of Christ   \n",
       "2           the Main Building   \n",
       "\n",
       "                                           sentences  target  \\\n",
       "0  [Architecturally, the school has a Catholic ch...       5   \n",
       "1  [Architecturally, the school has a Catholic ch...       2   \n",
       "2  [Architecturally, the school has a Catholic ch...       3   \n",
       "\n",
       "                                            sent_emb  \\\n",
       "0  [[0.055199966, 0.05013141, 0.047870383, 0.0162...   \n",
       "1  [[0.055199966, 0.05013141, 0.047870383, 0.0162...   \n",
       "2  [[0.055199966, 0.05013141, 0.047870383, 0.0162...   \n",
       "\n",
       "                                           quest_emb  \\\n",
       "0  [[0.11010079, 0.11422941, 0.11560896, 0.054894...   \n",
       "1  [[0.10951651, 0.110306226, 0.052100066, 0.0305...   \n",
       "2  [[0.011956469, 0.14930707, 0.026600493, 0.0527...   \n",
       "\n",
       "                                          cosine_sim  \\\n",
       "0  [0.424736299052452, 0.36405004106069117, 0.347...   \n",
       "1  [0.45407456884452513, 0.32262004808444933, 0.3...   \n",
       "2  [0.39585783692319865, 0.29170832145169434, 0.3...   \n",
       "\n",
       "                                       euclidean_dis  pred_idx_cos  \\\n",
       "0  [14.563858, 15.262212, 17.398178, 14.272491, 1...             5   \n",
       "1  [12.889506, 12.285219, 16.843704, 8.361172, 11...             3   \n",
       "2  [11.857297, 11.392319, 15.061656, 7.1847134, 8...             3   \n",
       "\n",
       "   pred_idx_euc  \n",
       "0             5  \n",
       "1             3  \n",
       "2             3  "
      ]
     },
     "execution_count": 22,
     "metadata": {},
     "output_type": "execute_result"
    }
   ],
   "source": [
    "predicted.head(3)"
   ]
  },
  {
   "cell_type": "code",
   "execution_count": 23,
   "metadata": {},
   "outputs": [
    {
     "data": {
      "text/plain": [
       "[0.424736299052452,\n",
       " 0.36405004106069117,\n",
       " 0.3477550016687636,\n",
       " 0.3942415731988862,\n",
       " 0.37102476524939887,\n",
       " 0.1856902254140269,\n",
       " 0.35192069116776403]"
      ]
     },
     "execution_count": 23,
     "metadata": {},
     "output_type": "execute_result"
    }
   ],
   "source": [
    "predicted[\"cosine_sim\"][0]"
   ]
  },
  {
   "cell_type": "code",
   "execution_count": 24,
   "metadata": {},
   "outputs": [
    {
     "data": {
      "text/plain": [
       "[14.563858, 15.262212, 17.398178, 14.272491, 13.339654, 9.336262, 15.720997]"
      ]
     },
     "execution_count": 24,
     "metadata": {},
     "output_type": "execute_result"
    }
   ],
   "source": [
    "predicted[\"euclidean_dis\"][0]"
   ]
  },
  {
   "cell_type": "markdown",
   "metadata": {},
   "source": [
    "## Accuracy"
   ]
  },
  {
   "cell_type": "code",
   "execution_count": 25,
   "metadata": {
    "collapsed": true
   },
   "outputs": [],
   "source": [
    "def accuracy(target, predicted):\n",
    "    \n",
    "    acc = (target==predicted).sum()/len(target)\n",
    "    \n",
    "    return acc"
   ]
  },
  {
   "cell_type": "markdown",
   "metadata": {},
   "source": [
    "### Accuracy for  euclidean Distance"
   ]
  },
  {
   "cell_type": "code",
   "execution_count": 26,
   "metadata": {},
   "outputs": [
    {
     "name": "stdout",
     "output_type": "stream",
     "text": [
      "0.44856046941711\n"
     ]
    }
   ],
   "source": [
    "print(accuracy(predicted[\"target\"], predicted[\"pred_idx_euc\"]))"
   ]
  },
  {
   "cell_type": "markdown",
   "metadata": {},
   "source": [
    "### Accuracy for Cosine Similarity"
   ]
  },
  {
   "cell_type": "code",
   "execution_count": 27,
   "metadata": {},
   "outputs": [
    {
     "name": "stdout",
     "output_type": "stream",
     "text": [
      "0.6338843352587958\n"
     ]
    }
   ],
   "source": [
    "print(accuracy(predicted[\"target\"], predicted[\"pred_idx_cos\"]))"
   ]
  },
  {
   "cell_type": "code",
   "execution_count": 44,
   "metadata": {
    "collapsed": true
   },
   "outputs": [],
   "source": [
    "predicted.to_csv(\"train_detect_sent.csv\", index=None)"
   ]
  },
  {
   "cell_type": "code",
   "execution_count": 34,
   "metadata": {},
   "outputs": [
    {
     "data": {
      "text/plain": [
       "answer_start                                                    69\n",
       "context          Both the vertical and dipole antennas are simp...\n",
       "question                             Are basic antennas expensive?\n",
       "text                                        relatively inexpensive\n",
       "sentences        [Both the vertical and dipole antennas are sim...\n",
       "target                                                           0\n",
       "sent_emb         [[0.06494937, 0.03690031, 0.12519251, -0.02735...\n",
       "quest_emb        [[0.031715073, 0.07947657, 0.030824697, 0.0126...\n",
       "cosine_sim       [0.359188584685867, 0.4689117244223153, 0.4489...\n",
       "euclidean_dis    [11.512397, 21.817242, 12.696278, 17.895185, 1...\n",
       "pred_idx_cos                                                     0\n",
       "pred_idx_euc                                                     0\n",
       "Name: 75208, dtype: object"
      ]
     },
     "execution_count": 34,
     "metadata": {},
     "output_type": "execute_result"
    }
   ],
   "source": [
    "predicted.iloc[75207,:]"
   ]
  },
  {
   "cell_type": "code",
   "execution_count": 38,
   "metadata": {
    "collapsed": true
   },
   "outputs": [],
   "source": [
    "ct,k = 0,0\n",
    "for i in range(predicted.shape[0]):\n",
    "    if predicted.iloc[i,10] != predicted.iloc[i,5]:\n",
    "        k += 1\n",
    "        if predicted.iloc[i,11] == predicted.iloc[i,5]:\n",
    "            ct += 1"
   ]
  },
  {
   "cell_type": "code",
   "execution_count": 39,
   "metadata": {},
   "outputs": [
    {
     "data": {
      "text/plain": [
       "(5545, 32071)"
      ]
     },
     "execution_count": 39,
     "metadata": {},
     "output_type": "execute_result"
    }
   ],
   "source": [
    "ct, k"
   ]
  },
  {
   "cell_type": "markdown",
   "metadata": {},
   "source": [
    "### Combining Accuracy"
   ]
  },
  {
   "cell_type": "code",
   "execution_count": 47,
   "metadata": {
    "collapsed": true
   },
   "outputs": [],
   "source": [
    "label = []\n",
    "for i in range(predicted.shape[0]):\n",
    "    if predicted.iloc[i,10] == predicted.iloc[i,11]:\n",
    "        label.append(predicted.iloc[i,10])\n",
    "    else:\n",
    "        label.append((predicted.iloc[i,10],predicted.iloc[i,10]))"
   ]
  },
  {
   "cell_type": "code",
   "execution_count": 66,
   "metadata": {
    "collapsed": true
   },
   "outputs": [],
   "source": [
    "ct = 0\n",
    "for i in range(75206):\n",
    "    item = predicted[\"target\"][i]\n",
    "    try:\n",
    "        if label[i] == predicted[\"target\"][i]: ct +=1\n",
    "    except:\n",
    "        if item in label[i]: ct +=1\n",
    "            "
   ]
  },
  {
   "cell_type": "code",
   "execution_count": 68,
   "metadata": {},
   "outputs": [
    {
     "data": {
      "text/plain": [
       "0.6370901257878361"
      ]
     },
     "execution_count": 68,
     "metadata": {},
     "output_type": "execute_result"
    }
   ],
   "source": [
    "ct/75206"
   ]
  },
  {
   "cell_type": "markdown",
   "metadata": {},
   "source": [
    "### Root Match"
   ]
  },
  {
   "cell_type": "code",
   "execution_count": 2,
   "metadata": {
    "collapsed": true
   },
   "outputs": [],
   "source": [
    "predicted = pd.read_csv(\"train_detect_sent.csv\").reset_index(drop=True)"
   ]
  },
  {
   "cell_type": "code",
   "execution_count": 39,
   "metadata": {
    "collapsed": true
   },
   "outputs": [],
   "source": [
    "doc = en_nlp(predicted.iloc[0,1])"
   ]
  },
  {
   "cell_type": "code",
   "execution_count": 40,
   "metadata": {},
   "outputs": [
    {
     "data": {
      "text/plain": [
       "'Architecturally, the school has a Catholic character. Atop the Main Building\\'s gold dome is a golden statue of the Virgin Mary. Immediately in front of the Main Building and facing it, is a copper statue of Christ with arms upraised with the legend \"Venite Ad Me Omnes\". Next to the Main Building is the Basilica of the Sacred Heart. Immediately behind the basilica is the Grotto, a Marian place of prayer and reflection. It is a replica of the grotto at Lourdes, France where the Virgin Mary reputedly appeared to Saint Bernadette Soubirous in 1858. At the end of the main drive (and in a direct line that connects through 3 statues and the Gold Dome), is a simple, modern stone statue of Mary.'"
      ]
     },
     "execution_count": 40,
     "metadata": {},
     "output_type": "execute_result"
    }
   ],
   "source": [
    "predicted.iloc[0,1]"
   ]
  },
  {
   "cell_type": "code",
   "execution_count": 49,
   "metadata": {},
   "outputs": [
    {
     "data": {
      "text/plain": [
       "'To whom did the Virgin Mary allegedly appear in 1858 in Lourdes France?'"
      ]
     },
     "execution_count": 49,
     "metadata": {},
     "output_type": "execute_result"
    }
   ],
   "source": [
    "predicted.iloc[0,2]"
   ]
  },
  {
   "cell_type": "code",
   "execution_count": 41,
   "metadata": {
    "collapsed": true
   },
   "outputs": [],
   "source": [
    "def to_nltk_tree(node):\n",
    "    if node.n_lefts + node.n_rights > 0:\n",
    "        return Tree(node.orth_, [to_nltk_tree(child) for child in node.children])\n",
    "    else:\n",
    "        return node.orth_"
   ]
  },
  {
   "cell_type": "code",
   "execution_count": 42,
   "metadata": {},
   "outputs": [
    {
     "name": "stdout",
     "output_type": "stream",
     "text": [
      "                  appear                             \n",
      "  __________________|____________________________     \n",
      " |      |      |    |         |           |      in  \n",
      " |      |      |    |         |           |      |    \n",
      " |      |      |    To       Mary         in   France\n",
      " |      |      |    |      ___|_____      |      |    \n",
      "did allegedly  ?   whom  the      Virgin 1858 Lourdes\n",
      "\n"
     ]
    },
    {
     "data": {
      "text/plain": [
       "[None]"
      ]
     },
     "execution_count": 42,
     "metadata": {},
     "output_type": "execute_result"
    }
   ],
   "source": [
    "[to_nltk_tree(sent.root).pretty_print()  for sent in en_nlp(predicted.iloc[0,2]).sents]"
   ]
  },
  {
   "cell_type": "code",
   "execution_count": 50,
   "metadata": {},
   "outputs": [
    {
     "name": "stdout",
     "output_type": "stream",
     "text": [
      "                    has                              \n",
      "        _____________|_________________               \n",
      "       |         |   |  school     character         \n",
      "       |         |   |    |      ______|________      \n",
      "Architecturally  ,   .   the    a            Catholic\n",
      "\n",
      "                            is                           \n",
      "  __________________________|________                     \n",
      " |           Atop                  statue                \n",
      " |            |                  ____|_________           \n",
      " |           dome               |    |         of        \n",
      " |    ________|______           |    |         |          \n",
      " |   |            Building      |    |        Mary       \n",
      " |   |     __________|______    |    |      ___|_____     \n",
      " .  gold the        Main    's  a  golden the      Virgin\n",
      "\n",
      "                                                  is                                                   \n",
      "  ________________________________________________|______________________                               \n",
      " |   |                   |                                             statue                          \n",
      " |   |                   |                         ______________________|_______                       \n",
      " |   |                   |                        |    |      |                 with                   \n",
      " |   |                   |                        |    |      |                  |                      \n",
      " |   |                   |                        |    |      |                 arms                   \n",
      " |   |                   |                        |    |      |                  |                      \n",
      " |   |                   in                       |    |      |               upraised                 \n",
      " |   |        ___________|__________________      |    |      |                  |                      \n",
      " |   |       |       |       front          |     |    |      |                 with                   \n",
      " |   |       |       |         |            |     |    |      |                  |                      \n",
      " |   |       |       |         of           |     |    |      |                legend                  \n",
      " |   |       |       |         |            |     |    |      |      ____________|______________        \n",
      " |   |       |       |      Building      facing  |    |      of    |    |       |            Omnes    \n",
      " |   |       |       |    _____|______      |     |    |      |     |    |       |        ______|____   \n",
      " ,   .  Immediately and the          Main   it    a  copper Christ the   \"       \"     Venite   Ad   Me\n",
      "\n",
      "                  is                           \n",
      "  ________________|__________                   \n",
      " |        Next            Basilica             \n",
      " |         |            _____|_______           \n",
      " |         to          |             of        \n",
      " |         |           |             |          \n",
      " |      Building       |           Heart       \n",
      " |    _____|______     |      _______|_____     \n",
      " .  the          Main the   the          Sacred\n",
      "\n",
      "                                     is                                    \n",
      "  ___________________________________|____                                  \n",
      " |                |                     Grotto                             \n",
      " |                |               ________|______                           \n",
      " |                |              |   |         place                       \n",
      " |                |              |   |     ______|__________                \n",
      " |              behind           |   |    |      |          of             \n",
      " |        ________|_______       |   |    |      |          |               \n",
      " |       |             basilica  |   |    |      |        prayer           \n",
      " |       |                |      |   |    |      |      ____|________       \n",
      " .  Immediately          the    the  ,    a    Marian and        reflection\n",
      "\n",
      "     is                                                                          \n",
      "  ___|_________                                                                   \n",
      " |   |      replica                                                              \n",
      " |   |    _____|______                                                            \n",
      " |   |   |            of                                                         \n",
      " |   |   |            |                                                           \n",
      " |   |   |          grotto                                                       \n",
      " |   |   |      ______|_______                                                    \n",
      " |   |   |     |              at                                                 \n",
      " |   |   |     |              |                                                   \n",
      " |   |   |     |           Lourdes                                               \n",
      " |   |   |     |       _______|_________________                                  \n",
      " |   |   |     |      |                       France                             \n",
      " |   |   |     |      |                         |                                 \n",
      " |   |   |     |      |                      appeared                            \n",
      " |   |   |     |      |        _________________|_____________________________    \n",
      " |   |   |     |      |       |        |               |              to      |  \n",
      " |   |   |     |      |       |        |               |              |       |   \n",
      " |   |   |     |      |       |        |               |          Soubirous   |  \n",
      " |   |   |     |      |       |        |               |              |       |   \n",
      " |   |   |     |      |       |        |              Mary        Bernadette  in \n",
      " |   |   |     |      |       |        |         ______|_____         |       |   \n",
      " It  .   a    the     ,     where  reputedly   the         Virgin   Saint    1858\n",
      "\n",
      "                                                   is                                                                    \n",
      "  _________________________________________________|_______________________________________________                       \n",
      " |   |   |   |       |                  in                                                         |                     \n",
      " |   |   |   |       |               ___|____                                                      |                      \n",
      " |   |   |   |       |              |       line                                                   |                     \n",
      " |   |   |   |       |              |    ____|____________                                         |                      \n",
      " |   |   |   |       At             |   |    |         connects                                    |                     \n",
      " |   |   |   |       |              |   |    |      ______|________                                |                      \n",
      " |   |   |   |      end             |   |    |     |            through                            |                     \n",
      " |   |   |   |    ___|____          |   |    |     |               |                               |                      \n",
      " |   |   |   |   |        of        |   |    |     |            statues                          statue                  \n",
      " |   |   |   |   |        |         |   |    |     |       ________|_________           ___________|__________________    \n",
      " |   |   |   |   |      drive       |   |    |     |      |        |        Dome       |    |      |      |      |    of \n",
      " |   |   |   |   |    ____|____     |   |    |     |      |        |      ___|____     |    |      |      |      |    |   \n",
      " (  and  ,   .  the the       main  )   a  direct that    3       and   the      Gold  a  simple   ,    modern stone Mary\n",
      "\n"
     ]
    }
   ],
   "source": [
    "[to_nltk_tree(sent.root) .pretty_print() for sent in doc.sents][5]"
   ]
  },
  {
   "cell_type": "code",
   "execution_count": 44,
   "metadata": {},
   "outputs": [
    {
     "name": "stdout",
     "output_type": "stream",
     "text": [
      "['has', 'has']\n",
      "['atop', 'is', 'of']\n",
      "['in', 'of', 'fac', 'is', 'of', 'with', 'with', 'legend']\n",
      "['to', 'is', 'of']\n",
      "['behind', 'is', 'grotto', 'of', 'pray']\n",
      "['is', 'is', 'of', 'at', 'lourd', 'appear', 'to']\n",
      "['at', 'of', 'in', 'through', 'statu', 'is', 'of']\n"
     ]
    }
   ],
   "source": [
    "for sent in doc.sents:\n",
    "    roots = [st.stem(chunk.root.head.text.lower()) for chunk in sent.noun_chunks]\n",
    "    print(roots)"
   ]
  },
  {
   "cell_type": "code",
   "execution_count": 45,
   "metadata": {
    "collapsed": true
   },
   "outputs": [],
   "source": [
    "def match_roots(x):\n",
    "    question = x[\"question\"].lower()\n",
    "    sentences = en_nlp(x[\"context\"].lower()).sents\n",
    "    \n",
    "    question_root = st.stem(str([sent.root for sent in en_nlp(question).sents][0]))\n",
    "    \n",
    "    li = []\n",
    "    for i,sent in enumerate(sentences):\n",
    "        roots = [st.stem(chunk.root.head.text.lower()) for chunk in sent.noun_chunks]\n",
    "\n",
    "        if question_root in roots: \n",
    "            for k,item in enumerate(ast.literal_eval(x[\"sentences\"])):\n",
    "                if str(sent) in item.lower(): \n",
    "                    li.append(k)\n",
    "    return li"
   ]
  },
  {
   "cell_type": "code",
   "execution_count": 46,
   "metadata": {},
   "outputs": [
    {
     "data": {
      "text/plain": [
       "'The end of what road was once home to Newgate Prison?'"
      ]
     },
     "execution_count": 46,
     "metadata": {},
     "output_type": "execute_result"
    }
   ],
   "source": [
    "predicted[\"question\"][21493]"
   ]
  },
  {
   "cell_type": "code",
   "execution_count": 47,
   "metadata": {},
   "outputs": [
    {
     "data": {
      "text/plain": [
       "\"10th Street (40°44′03″N 74°00′11″W\\ufeff / \\ufeff40.7342580°N 74.0029670°W\\ufeff / 40.7342580; -74.0029670) begins at the FDR Drive and Avenue C. West of Sixth Avenue, it turns southward about 40 degrees to join the Greenwich Village street grid and continue to West Street on the Hudson River. Because West 4th Street turns northward at Sixth Avenue, it intersects 10th, 11th and 12th and 13th Streets in the West Village. The M8 bus operates on 10th Street in both directions between Avenue D and Avenue A, and eastbound between West Street and Sixth Avenue. 10th Street has an eastbound bike lane from West Street to the East River. In 2009, the two-way section of 10th Street between Avenue A and the East River had bicycle markings and sharrows installed, but it still has no dedicated bike lane. West 10th Street was previously named Amos Street for Richard Amos. The end of West 10th Street toward the Hudson River was once the home of Newgate Prison, New York City's first prison and the United States' second.\""
      ]
     },
     "execution_count": 47,
     "metadata": {},
     "output_type": "execute_result"
    }
   ],
   "source": [
    "predicted[\"context\"][21493]"
   ]
  },
  {
   "cell_type": "code",
   "execution_count": 48,
   "metadata": {
    "collapsed": true
   },
   "outputs": [],
   "source": [
    "predicted[\"root_match_idx\"] = predicted.apply(match_roots, axis = 1)"
   ]
  },
  {
   "cell_type": "code",
   "execution_count": null,
   "metadata": {
    "collapsed": true
   },
   "outputs": [],
   "source": []
  },
  {
   "cell_type": "code",
   "execution_count": 51,
   "metadata": {
    "collapsed": true
   },
   "outputs": [],
   "source": [
    "predicted[\"root_match_idx_first\"]= predicted[\"root_match_idx\"].apply(lambda x: x[0] if len(x)>0 else 0)"
   ]
  },
  {
   "cell_type": "code",
   "execution_count": 52,
   "metadata": {},
   "outputs": [
    {
     "data": {
      "text/plain": [
       "0.3977488070503893"
      ]
     },
     "execution_count": 52,
     "metadata": {},
     "output_type": "execute_result"
    }
   ],
   "source": [
    "(predicted[\"root_match_idx_first\"]==predicted[\"target\"]).sum()/predicted.shape[0]"
   ]
  },
  {
   "cell_type": "code",
   "execution_count": 55,
   "metadata": {
    "collapsed": true
   },
   "outputs": [],
   "source": [
    "predicted.to_csv(\"train_detect_sent.csv\", index=None)"
   ]
  },
  {
   "cell_type": "code",
   "execution_count": 53,
   "metadata": {},
   "outputs": [
    {
     "data": {
      "text/html": [
       "<div>\n",
       "<style scoped>\n",
       "    .dataframe tbody tr th:only-of-type {\n",
       "        vertical-align: middle;\n",
       "    }\n",
       "\n",
       "    .dataframe tbody tr th {\n",
       "        vertical-align: top;\n",
       "    }\n",
       "\n",
       "    .dataframe thead th {\n",
       "        text-align: right;\n",
       "    }\n",
       "</style>\n",
       "<table border=\"1\" class=\"dataframe\">\n",
       "  <thead>\n",
       "    <tr style=\"text-align: right;\">\n",
       "      <th></th>\n",
       "      <th>answer_start</th>\n",
       "      <th>context</th>\n",
       "      <th>question</th>\n",
       "      <th>text</th>\n",
       "      <th>sentences</th>\n",
       "      <th>quest_emb</th>\n",
       "      <th>target</th>\n",
       "      <th>sent_emb</th>\n",
       "      <th>cosine_sim</th>\n",
       "      <th>euclidean_dis</th>\n",
       "      <th>pred_idx_cos</th>\n",
       "      <th>pred_idx_euc</th>\n",
       "      <th>root_match_idx</th>\n",
       "      <th>root_match_idx_first</th>\n",
       "    </tr>\n",
       "  </thead>\n",
       "  <tbody>\n",
       "  </tbody>\n",
       "</table>\n",
       "</div>"
      ],
      "text/plain": [
       "Empty DataFrame\n",
       "Columns: [answer_start, context, question, text, sentences, quest_emb, target, sent_emb, cosine_sim, euclidean_dis, pred_idx_cos, pred_idx_euc, root_match_idx, root_match_idx_first]\n",
       "Index: []"
      ]
     },
     "execution_count": 53,
     "metadata": {},
     "output_type": "execute_result"
    }
   ],
   "source": [
    "predicted[(predicted[\"sentences\"].apply(lambda x: len(ast.literal_eval(x)))<11) &  (predicted[\"root_match_idx_first\"]>10)]       \n",
    "\n"
   ]
  },
  {
   "cell_type": "code",
   "execution_count": 23,
   "metadata": {},
   "outputs": [
    {
     "data": {
      "text/plain": [
       "7"
      ]
     },
     "execution_count": 23,
     "metadata": {},
     "output_type": "execute_result"
    }
   ],
   "source": [
    "len(ast.literal_eval(predicted.iloc[21493,4]))"
   ]
  },
  {
   "cell_type": "code",
   "execution_count": 59,
   "metadata": {},
   "outputs": [
    {
     "name": "stdout",
     "output_type": "stream",
     "text": [
      "['street']\n",
      "['°']\n",
      "[]\n",
      "['°']\n",
      "['°', '°']\n",
      "[]\n",
      "['at', 'driv', 'of', 'turn', 'turn', 'join', 'west', 'on']\n",
      "['turn', 'at', 'intersect', 'intersect', 'in']\n",
      "['op', 'on', 'in', 'between', 'street']\n",
      "['has', 'has', 'from', 'to']\n",
      "['had', 'of', 'a', 'had', 'had', 'has', 'has']\n",
      "['nam']\n",
      "['was', 'of', 'toward', 'was', 'of', 'hom']\n"
     ]
    }
   ],
   "source": [
    "question = predicted[\"question\"][21493].lower()\n",
    "sentences = en_nlp(predicted[\"context\"][21493].lower()).sents\n",
    "    \n",
    "question_root = st.stem(str([sent.root for sent in en_nlp(question).sents][0]))\n",
    "    \n",
    "li = []\n",
    "for i,sent in enumerate(sentences):\n",
    "    roots = [st.stem(chunk.root.head.text.lower()) for chunk in sent.noun_chunks]\n",
    "    print(roots)\n",
    "\n",
    "    if question_root in roots: li.append(i)"
   ]
  },
  {
   "cell_type": "code",
   "execution_count": 4,
   "metadata": {},
   "outputs": [
    {
     "data": {
      "text/plain": [
       "['10th Street (40°44′03″N 74°00′11″W\\ufeff / \\ufeff40.7342580°N 74.0029670°W\\ufeff / 40.7342580; -74.0029670) begins at the FDR Drive and Avenue C. West of Sixth Avenue, it turns southward about 40 degrees to join the Greenwich Village street grid and continue to West Street on the Hudson River.',\n",
       " 'Because West 4th Street turns northward at Sixth Avenue, it intersects 10th, 11th and 12th and 13th Streets in the West Village.',\n",
       " 'The M8 bus operates on 10th Street in both directions between Avenue D and Avenue A, and eastbound between West Street and Sixth Avenue.',\n",
       " '10th Street has an eastbound bike lane from West Street to the East River.',\n",
       " 'In 2009, the two-way section of 10th Street between Avenue A and the East River had bicycle markings and sharrows installed, but it still has no dedicated bike lane.',\n",
       " 'West 10th Street was previously named Amos Street for Richard Amos.',\n",
       " \"The end of West 10th Street toward the Hudson River was once the home of Newgate Prison, New York City's first prison and the United States' second.\"]"
      ]
     },
     "execution_count": 4,
     "metadata": {},
     "output_type": "execute_result"
    }
   ],
   "source": [
    "ast.literal_eval(predicted[\"sentences\"][21493])"
   ]
  },
  {
   "cell_type": "code",
   "execution_count": 5,
   "metadata": {},
   "outputs": [
    {
     "data": {
      "text/plain": [
       "\"10th Street (40°44′03″N 74°00′11″W\\ufeff / \\ufeff40.7342580°N 74.0029670°W\\ufeff / 40.7342580; -74.0029670) begins at the FDR Drive and Avenue C. West of Sixth Avenue, it turns southward about 40 degrees to join the Greenwich Village street grid and continue to West Street on the Hudson River. Because West 4th Street turns northward at Sixth Avenue, it intersects 10th, 11th and 12th and 13th Streets in the West Village. The M8 bus operates on 10th Street in both directions between Avenue D and Avenue A, and eastbound between West Street and Sixth Avenue. 10th Street has an eastbound bike lane from West Street to the East River. In 2009, the two-way section of 10th Street between Avenue A and the East River had bicycle markings and sharrows installed, but it still has no dedicated bike lane. West 10th Street was previously named Amos Street for Richard Amos. The end of West 10th Street toward the Hudson River was once the home of Newgate Prison, New York City's first prison and the United States' second.\""
      ]
     },
     "execution_count": 5,
     "metadata": {},
     "output_type": "execute_result"
    }
   ],
   "source": [
    "predicted[\"context\"][21493]"
   ]
  },
  {
   "cell_type": "code",
   "execution_count": 14,
   "metadata": {
    "collapsed": true
   },
   "outputs": [],
   "source": [
    "en_nlp = spacy.load('en')\n",
    "sentences = en_nlp(predicted[\"context\"][21493].lower()).sents"
   ]
  },
  {
   "cell_type": "code",
   "execution_count": 15,
   "metadata": {},
   "outputs": [
    {
     "name": "stdout",
     "output_type": "stream",
     "text": [
      "10th street\n",
      "(40°44′03″n 74°00′11″w﻿\n",
      "/\n",
      "﻿40.7342580°n\n",
      "74.0029670°w﻿\n",
      "/ 40.7342580;\n",
      "-74.0029670) begins at the fdr drive and avenue c. west of sixth avenue, it turns southward about 40 degrees to join the greenwich village street grid and continue to west street on the hudson river.\n",
      "because west 4th street turns northward at sixth avenue, it intersects 10th, 11th and 12th and 13th streets in the west village.\n",
      "the m8 bus operates on 10th street in both directions between avenue d and avenue a, and eastbound between west street and sixth avenue.\n",
      "10th street has an eastbound bike lane from west street to the east river.\n",
      "in 2009, the two-way section of 10th street between avenue a and the east river had bicycle markings and sharrows installed, but it still has no dedicated bike lane.\n",
      "west 10th street was previously named amos street for richard amos.\n",
      "the end of west 10th street toward the hudson river was once the home of newgate prison, new york city's first prison and the united states' second.\n"
     ]
    }
   ],
   "source": [
    "for item in sentences:\n",
    "    print(item)"
   ]
  },
  {
   "cell_type": "code",
   "execution_count": null,
   "metadata": {
    "collapsed": true
   },
   "outputs": [],
   "source": []
  },
  {
   "cell_type": "code",
   "execution_count": 6,
   "metadata": {},
   "outputs": [
    {
     "data": {
      "text/plain": [
       "TfidfVectorizer(analyzer='word', binary=False, decode_error='strict',\n",
       "        dtype=<class 'numpy.int64'>, encoding='utf-8',\n",
       "        input='[\\'Architecturally, the school has a Catholic character.\\', \"Atop the Main Building\\'s gold dome is a golden statue of the Virgin Mary.\", \\'Immediately in front of the Main Building and facing it, is a copper statue of Christ with arms upraised with the legend \"Venite Ad Me Omnes\".\\', \\'Next ...ne that connects through 3 statues and the Gold Dome), is a simple, modern stone statue of Mary.\\']',\n",
       "        lowercase=True, max_df=1.0, max_features=None, min_df=1,\n",
       "        ngram_range=(1, 2), norm='l2', preprocessor=None, smooth_idf=True,\n",
       "        stop_words=None, strip_accents=None, sublinear_tf=False,\n",
       "        token_pattern='(?u)\\\\b\\\\w\\\\w+\\\\b', tokenizer=None, use_idf=True,\n",
       "        vocabulary=None)"
      ]
     },
     "execution_count": 6,
     "metadata": {},
     "output_type": "execute_result"
    }
   ],
   "source": [
    "TfidfVectorizer(predicted[\"sentences\"][0], ngram_range=(1,2))"
   ]
  },
  {
   "cell_type": "code",
   "execution_count": null,
   "metadata": {
    "collapsed": true
   },
   "outputs": [],
   "source": []
  },
  {
   "cell_type": "code",
   "execution_count": null,
   "metadata": {
    "collapsed": true
   },
   "outputs": [],
   "source": []
  },
  {
   "cell_type": "code",
   "execution_count": null,
   "metadata": {
    "collapsed": true
   },
   "outputs": [],
   "source": []
  },
  {
   "cell_type": "code",
   "execution_count": null,
   "metadata": {
    "collapsed": true
   },
   "outputs": [],
   "source": []
  },
  {
   "cell_type": "code",
   "execution_count": null,
   "metadata": {
    "collapsed": true
   },
   "outputs": [],
   "source": []
  },
  {
   "cell_type": "code",
   "execution_count": null,
   "metadata": {
    "collapsed": true
   },
   "outputs": [],
   "source": []
  },
  {
   "cell_type": "code",
   "execution_count": null,
   "metadata": {
    "collapsed": true
   },
   "outputs": [],
   "source": []
  },
  {
   "cell_type": "code",
   "execution_count": null,
   "metadata": {
    "collapsed": true
   },
   "outputs": [],
   "source": []
  },
  {
   "cell_type": "code",
   "execution_count": null,
   "metadata": {
    "collapsed": true
   },
   "outputs": [],
   "source": []
  },
  {
   "cell_type": "code",
   "execution_count": null,
   "metadata": {
    "collapsed": true
   },
   "outputs": [],
   "source": []
  },
  {
   "cell_type": "code",
   "execution_count": null,
   "metadata": {
    "collapsed": true
   },
   "outputs": [],
   "source": []
  },
  {
   "cell_type": "code",
   "execution_count": null,
   "metadata": {
    "collapsed": true
   },
   "outputs": [],
   "source": []
  },
  {
   "cell_type": "code",
   "execution_count": null,
   "metadata": {
    "collapsed": true
   },
   "outputs": [],
   "source": []
  },
  {
   "cell_type": "code",
   "execution_count": null,
   "metadata": {
    "collapsed": true
   },
   "outputs": [],
   "source": []
  },
  {
   "cell_type": "code",
   "execution_count": null,
   "metadata": {
    "collapsed": true
   },
   "outputs": [],
   "source": []
  },
  {
   "cell_type": "code",
   "execution_count": null,
   "metadata": {
    "collapsed": true
   },
   "outputs": [],
   "source": []
  },
  {
   "cell_type": "code",
   "execution_count": null,
   "metadata": {
    "collapsed": true
   },
   "outputs": [],
   "source": []
  },
  {
   "cell_type": "code",
   "execution_count": null,
   "metadata": {
    "collapsed": true
   },
   "outputs": [],
   "source": []
  }
 ],
 "metadata": {
  "hide_input": false,
  "kernelspec": {
   "display_name": "Python 3",
   "language": "python",
   "name": "python3"
  },
  "language_info": {
   "codemirror_mode": {
    "name": "ipython",
    "version": 3
   },
   "file_extension": ".py",
   "mimetype": "text/x-python",
   "name": "python",
   "nbconvert_exporter": "python",
   "pygments_lexer": "ipython3",
   "version": "3.6.3"
  }
 },
 "nbformat": 4,
 "nbformat_minor": 2
}
